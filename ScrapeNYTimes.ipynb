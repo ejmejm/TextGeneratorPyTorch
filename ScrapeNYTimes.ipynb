{
 "cells": [
  {
   "cell_type": "code",
   "execution_count": 1,
   "metadata": {
    "collapsed": true
   },
   "outputs": [],
   "source": [
    "# API KEY = e68cb4dbfc544ab9b8099f7333bb935e\n",
    "# http://dlab.berkeley.edu/blog/scraping-new-york-times-articles-python-tutorial"
   ]
  },
  {
   "cell_type": "code",
   "execution_count": 2,
   "metadata": {
    "collapsed": true
   },
   "outputs": [],
   "source": [
    "from nytimesarticle import articleAPI\n",
    "api = articleAPI('e68cb4dbfc544ab9b8099f7333bb935e')"
   ]
  },
  {
   "cell_type": "code",
   "execution_count": 27,
   "metadata": {
    "collapsed": true
   },
   "outputs": [],
   "source": [
    "articles = api.search(startdate=20160101, enddate=20160102)"
   ]
  },
  {
   "cell_type": "code",
   "execution_count": 28,
   "metadata": {},
   "outputs": [
    {
     "data": {
      "text/plain": [
       "{'copyright': 'Copyright (c) 2018 The New York Times Company. All Rights Reserved.',\n",
       " 'response': {'docs': [{'_id': '4fc04eb745c1498b0d23d9fc',\n",
       "    'abstract': 'Green, Sterling, murder, arson, 216 W. 29th',\n",
       "    'blog': {},\n",
       "    'document_type': 'article',\n",
       "    'headline': {'content_kicker': None,\n",
       "     'kicker': None,\n",
       "     'main': \"MURDER, FIRE AND FIGHT IN NEGRO ATHLETE'S WAKE; Killed His Brother and Wounded Another, Say the Police. HIS WIFE WAS SHOT AT, TOO House Took Fire from Victim's Blazing Shirt -- Arrested After Hard Struggle -- Green Faces Homicide Charge.\",\n",
       "     'name': None,\n",
       "     'print_headline': None,\n",
       "     'seo': None,\n",
       "     'sub': None},\n",
       "    'keywords': [{'major': None,\n",
       "      'name': 'organizations',\n",
       "      'rank': 0,\n",
       "      'value': 'NEGROES'}],\n",
       "    'multimedia': [],\n",
       "    'print_page': '5',\n",
       "    'pub_date': '1904-12-31T00:00:00Z',\n",
       "    'score': 1.0,\n",
       "    'snippet': 'Sterling Green, a six-foot negro athlete, was arraigned in the West Side Court yesterday, charged with homicide. The police of the Wrest Thirty-seventh Street Station, who made the charge, also alleged an extraordinary series of misdeeds on the pa...',\n",
       "    'source': 'The New York Times',\n",
       "    'type_of_material': 'Article',\n",
       "    'web_url': 'https://query.nytimes.com/gst/abstract.html?res=9B06E1DA163DE733A25752C3A9649D946597D6CF',\n",
       "    'word_count': 1025},\n",
       "   {'_id': '4fc04eb745c1498b0d23da00',\n",
       "    'abstract': 'Spent $22,200',\n",
       "    'blog': {},\n",
       "    'document_type': 'article',\n",
       "    'headline': {'content_kicker': None,\n",
       "     'kicker': None,\n",
       "     'main': \"HIGGINS, SPENT $22,189.53.; Governor-Elect's Election Expenses -- Harrison $9,220.28.\",\n",
       "     'name': None,\n",
       "     'print_headline': None,\n",
       "     'seo': None,\n",
       "     'sub': None},\n",
       "    'keywords': [{'major': None,\n",
       "      'name': 'persons',\n",
       "      'rank': 0,\n",
       "      'value': 'HIGGINS, LT. GOV.'}],\n",
       "    'multimedia': [],\n",
       "    'print_page': '2',\n",
       "    'pub_date': '1904-11-17T00:00:00Z',\n",
       "    'score': 1.0,\n",
       "    'snippet': 'Spent $22,200',\n",
       "    'source': 'The New York Times',\n",
       "    'type_of_material': 'Article',\n",
       "    'web_url': 'https://query.nytimes.com/gst/abstract.html?res=9C05E3D7113DE633A25754C1A9679D946597D6CF',\n",
       "    'word_count': 213},\n",
       "   {'_id': '4fc21ebf45c1498b0d612b22',\n",
       "    'blog': {},\n",
       "    'document_type': 'article',\n",
       "    'headline': {'content_kicker': None,\n",
       "     'kicker': '1',\n",
       "     'main': 'GARDEN BOUTS CANCELED; Mauriello Says He Could Not Be Ready on Nov. 3',\n",
       "     'name': None,\n",
       "     'print_headline': None,\n",
       "     'seo': None,\n",
       "     'sub': None},\n",
       "    'keywords': [],\n",
       "    'multimedia': [],\n",
       "    'print_page': '15',\n",
       "    'pub_date': '1944-10-23T00:00:00Z',\n",
       "    'score': 1.0,\n",
       "    'snippet': '',\n",
       "    'source': 'The New York Times',\n",
       "    'type_of_material': 'Article',\n",
       "    'web_url': 'https://query.nytimes.com/gst/abstract.html?res=9E07E6DA1F3BE433A25750C2A9669D946593D6CF',\n",
       "    'word_count': 149},\n",
       "   {'_id': '4fc3b41d45c1498b0d7fd41e',\n",
       "    'blog': {},\n",
       "    'byline': {'organization': None,\n",
       "     'original': 'By JOHN G. FORREST',\n",
       "     'person': [{'firstname': 'John',\n",
       "       'lastname': 'FORREST',\n",
       "       'middlename': 'G.',\n",
       "       'organization': '',\n",
       "       'qualifier': None,\n",
       "       'rank': 1,\n",
       "       'role': 'reported',\n",
       "       'title': None}]},\n",
       "    'document_type': 'article',\n",
       "    'headline': {'content_kicker': None,\n",
       "     'kicker': '1',\n",
       "     'main': 'Stock Drop Is Biggest in 2 Months--Margin Rise Held Factor in Lightest Trading of 1955',\n",
       "     'name': None,\n",
       "     'print_headline': None,\n",
       "     'seo': None,\n",
       "     'sub': None},\n",
       "    'keywords': [],\n",
       "    'multimedia': [],\n",
       "    'print_page': 'F1',\n",
       "    'pub_date': '1955-05-15T00:00:00Z',\n",
       "    'score': 1.0,\n",
       "    'snippet': 'Stock prices last week, on the lightest volume of the year, sustained the largest losses in about two months. Some technicians were inclined to believe that if offerings became heavier on the decline, the averages could challenge the lows of the f...',\n",
       "    'source': 'The New York Times',\n",
       "    'type_of_material': 'Article',\n",
       "    'web_url': 'https://query.nytimes.com/gst/abstract.html?res=9E07E1DB1330E531A15756C1A9639C946492D6CF',\n",
       "    'word_count': 823},\n",
       "   {'_id': '4fc04eb745c1498b0d23da12',\n",
       "    'abstract': 'Healy, Michael, will suit',\n",
       "    'blog': {},\n",
       "    'document_type': 'article',\n",
       "    'headline': {'content_kicker': None,\n",
       "     'kicker': None,\n",
       "     'main': 'MUSIC OF THE WEEK',\n",
       "     'name': None,\n",
       "     'print_headline': None,\n",
       "     'seo': None,\n",
       "     'sub': None},\n",
       "    'keywords': [{'major': None,\n",
       "      'name': 'persons',\n",
       "      'rank': 0,\n",
       "      'value': 'HEALY, MICHAEL'}],\n",
       "    'multimedia': [],\n",
       "    'print_page': '20',\n",
       "    'pub_date': '1904-11-06T00:00:00Z',\n",
       "    'score': 1.0,\n",
       "    'snippet': 'The first public rehearsal and concert of the Philharmonic Society will be given at Carnegie Hall on Friday afternoon and Saturday evening. Gustav F. Kogel, the former director of the Museum Concert at Frankfort-on-the-Main, will be the conductor....',\n",
       "    'source': 'The New York Times',\n",
       "    'type_of_material': 'Article',\n",
       "    'web_url': 'https://query.nytimes.com/gst/abstract.html?res=9504EEDE123BE733A25755C0A9679D946597D6CF',\n",
       "    'word_count': 2609},\n",
       "   {'_id': '4fd1b3018eb7c8105d6d690a',\n",
       "    'blog': {},\n",
       "    'document_type': 'article',\n",
       "    'headline': {'content_kicker': None,\n",
       "     'kicker': None,\n",
       "     'main': 'Anacomp Inc. reports earnings for Qtr to March 31',\n",
       "     'name': None,\n",
       "     'print_headline': None,\n",
       "     'seo': None,\n",
       "     'sub': None},\n",
       "    'keywords': [{'major': None,\n",
       "      'name': 'subject',\n",
       "      'rank': 0,\n",
       "      'value': 'COMPANY EARNINGS'}],\n",
       "    'multimedia': [],\n",
       "    'news_desk': 'Financial Desk',\n",
       "    'print_page': '20',\n",
       "    'pub_date': '1992-05-06T00:00:00Z',\n",
       "    'score': 1.0,\n",
       "    'snippet': '',\n",
       "    'source': 'The New York Times',\n",
       "    'type_of_material': 'Statistics',\n",
       "    'web_url': 'https://www.nytimes.com/1992/05/06/business/anacomp-inc-reports-earnings-for-qtr-to-march-31.html',\n",
       "    'word_count': 129},\n",
       "   {'_id': '4fc47bb045c1498b0da03363',\n",
       "    'blog': {},\n",
       "    'document_type': 'article',\n",
       "    'headline': {'content_kicker': None,\n",
       "     'kicker': '1',\n",
       "     'main': 'Brooklyn Routs Yeshiva',\n",
       "     'name': None,\n",
       "     'print_headline': None,\n",
       "     'seo': None,\n",
       "     'sub': None},\n",
       "    'keywords': [],\n",
       "    'multimedia': [],\n",
       "    'print_page': 'S9',\n",
       "    'pub_date': '1972-12-24T00:00:00Z',\n",
       "    'score': 1.0,\n",
       "    'snippet': '',\n",
       "    'source': 'The New York Times',\n",
       "    'type_of_material': 'Article',\n",
       "    'web_url': 'https://query.nytimes.com/gst/abstract.html?res=9503EFDF153DE53ABC4C51DFB4678389669EDE',\n",
       "    'word_count': 144},\n",
       "   {'_id': '4fc47bb045c1498b0da03367',\n",
       "    'blog': {},\n",
       "    'byline': {'organization': None,\n",
       "     'original': 'Special to The New York Times',\n",
       "     'person': [{'firstname': None,\n",
       "       'lastname': None,\n",
       "       'middlename': None,\n",
       "       'organization': '',\n",
       "       'qualifier': None,\n",
       "       'rank': 1,\n",
       "       'role': 'reported',\n",
       "       'title': None}]},\n",
       "    'document_type': 'article',\n",
       "    'headline': {'content_kicker': None,\n",
       "     'kicker': '1',\n",
       "     'main': 'Albuquerque Program Gives Drinkers a Lift',\n",
       "     'name': None,\n",
       "     'print_headline': None,\n",
       "     'seo': None,\n",
       "     'sub': None},\n",
       "    'keywords': [],\n",
       "    'multimedia': [],\n",
       "    'print_page': '11',\n",
       "    'pub_date': '1972-12-25T00:00:00Z',\n",
       "    'score': 1.0,\n",
       "    'snippet': 'ALBUQUERQUE, N. M., Dec. 24 -- Holiday drinkers who have drunk too much can get free rides home from now until Jan. 2 through a test program being carried out by taxi companies, university students and a local alcohol safety organization.  ',\n",
       "    'source': 'The New York Times',\n",
       "    'type_of_material': 'Article',\n",
       "    'web_url': 'https://query.nytimes.com/gst/abstract.html?res=9F03E1DA1631E63BBC4D51DFB4678389669EDE',\n",
       "    'word_count': 151},\n",
       "   {'_id': '4fc21ebf45c1498b0d612b3c',\n",
       "    'blog': {},\n",
       "    'document_type': 'article',\n",
       "    'headline': {'content_kicker': None,\n",
       "     'kicker': '1',\n",
       "     'main': 'Front Page 7 -- No Title',\n",
       "     'name': None,\n",
       "     'print_headline': None,\n",
       "     'seo': None,\n",
       "     'sub': None},\n",
       "    'keywords': [],\n",
       "    'multimedia': [],\n",
       "    'print_page': '1',\n",
       "    'pub_date': '1944-10-24T00:00:00Z',\n",
       "    'score': 1.0,\n",
       "    'snippet': '',\n",
       "    'source': 'The New York Times',\n",
       "    'type_of_material': 'Front Page',\n",
       "    'web_url': 'https://query.nytimes.com/gst/abstract.html?res=9905E6DD153EE03BBC4C51DFB667838F659EDE',\n",
       "    'word_count': 29},\n",
       "   {'_id': '4fc04eb745c1498b0d23da17',\n",
       "    'abstract': \"housesmiths won't strike\",\n",
       "    'blog': {},\n",
       "    'document_type': 'article',\n",
       "    'headline': {'content_kicker': None,\n",
       "     'kicker': None,\n",
       "     'main': 'UNIONS AND BUILDERS READY FOR LONG FIGHT; None of the Strikers Back - Lock-Out Soon in Effect. 23,000 ALREADY INVOLVED Orders Sent to Every Building Employer Within Twenty-five Miles -- House-smiths Vote Not to Strike.',\n",
       "     'name': None,\n",
       "     'print_headline': None,\n",
       "     'seo': None,\n",
       "     'sub': None},\n",
       "    'keywords': [{'major': None,\n",
       "      'name': 'glocations',\n",
       "      'rank': 0,\n",
       "      'value': 'NEW YORK CITY'},\n",
       "     {'major': None, 'name': 'subject', 'rank': 0, 'value': 'STRIKES'},\n",
       "     {'major': None,\n",
       "      'name': 'subject',\n",
       "      'rank': 0,\n",
       "      'value': 'PENN. MINERS THREATEN'},\n",
       "     {'major': None,\n",
       "      'name': 'subject',\n",
       "      'rank': 0,\n",
       "      'value': 'BLDG. TRADES EMP. ASS. MAY LOCK OUT 30,000'},\n",
       "     {'major': None,\n",
       "      'name': 'subject',\n",
       "      'rank': 0,\n",
       "      'value': '23,000 MEN INVOLVED'}],\n",
       "    'multimedia': [],\n",
       "    'print_page': '1',\n",
       "    'pub_date': '1904-08-06T00:00:00Z',\n",
       "    'score': 1.0,\n",
       "    'snippet': 'The employers and the unions have lined up in preparation for a long fight in the building war. An indication of the feeling that this will be a real fight is the appointment of a regular Press Committee by the employers. Members of their associat...',\n",
       "    'source': 'The New York Times',\n",
       "    'type_of_material': 'Front Page',\n",
       "    'web_url': 'https://query.nytimes.com/gst/abstract.html?res=9507EFDB1F3AE733A25755C0A96E9C946597D6CF',\n",
       "    'word_count': 883}],\n",
       "  'meta': {'hits': 15531457, 'offset': 0, 'time': 310}},\n",
       " 'status': 'OK'}"
      ]
     },
     "execution_count": 28,
     "metadata": {},
     "output_type": "execute_result"
    }
   ],
   "source": [
    "articles"
   ]
  },
  {
   "cell_type": "code",
   "execution_count": 29,
   "metadata": {
    "collapsed": true
   },
   "outputs": [],
   "source": [
    "news = []\n",
    "for i in articles['response']['docs']:\n",
    "    news.append(i['headline']['main'])"
   ]
  },
  {
   "cell_type": "code",
   "execution_count": 30,
   "metadata": {},
   "outputs": [
    {
     "data": {
      "text/plain": [
       "[\"MURDER, FIRE AND FIGHT IN NEGRO ATHLETE'S WAKE; Killed His Brother and Wounded Another, Say the Police. HIS WIFE WAS SHOT AT, TOO House Took Fire from Victim's Blazing Shirt -- Arrested After Hard Struggle -- Green Faces Homicide Charge.\",\n",
       " \"HIGGINS, SPENT $22,189.53.; Governor-Elect's Election Expenses -- Harrison $9,220.28.\",\n",
       " 'GARDEN BOUTS CANCELED; Mauriello Says He Could Not Be Ready on Nov. 3',\n",
       " 'Stock Drop Is Biggest in 2 Months--Margin Rise Held Factor in Lightest Trading of 1955',\n",
       " 'MUSIC OF THE WEEK',\n",
       " 'Anacomp Inc. reports earnings for Qtr to March 31',\n",
       " 'Brooklyn Routs Yeshiva',\n",
       " 'Albuquerque Program Gives Drinkers a Lift',\n",
       " 'Front Page 7 -- No Title',\n",
       " 'UNIONS AND BUILDERS READY FOR LONG FIGHT; None of the Strikers Back - Lock-Out Soon in Effect. 23,000 ALREADY INVOLVED Orders Sent to Every Building Employer Within Twenty-five Miles -- House-smiths Vote Not to Strike.']"
      ]
     },
     "execution_count": 30,
     "metadata": {},
     "output_type": "execute_result"
    }
   ],
   "source": [
    "news"
   ]
  },
  {
   "cell_type": "code",
   "execution_count": 37,
   "metadata": {
    "collapsed": true
   },
   "outputs": [],
   "source": [
    "def get_articles(date,query):\n",
    "    '''\n",
    "    This function accepts a year in string format (e.g.'1980')\n",
    "    and a query (e.g.'Amnesty International') and it will \n",
    "    return a list of parsed articles (in dictionaries)\n",
    "    for that year.\n",
    "    '''\n",
    "    all_articles = []\n",
    "    for i in range(0,100): #NYT limits pager to first 100 pages. But rarely will you find over 100 pages of results anyway.\n",
    "        articles = api.search(q = query,\n",
    "               fq = {'source':['Reuters','AP', 'The New York Times']})\n",
    "        articles = parse_articles(articles)\n",
    "        all_articles = all_articles + articles\n",
    "    return(all_articles)"
   ]
  },
  {
   "cell_type": "code",
   "execution_count": 63,
   "metadata": {
    "collapsed": true
   },
   "outputs": [],
   "source": [
    "di = {u'source': b'The New York Times'}"
   ]
  },
  {
   "cell_type": "code",
   "execution_count": 64,
   "metadata": {},
   "outputs": [
    {
     "data": {
      "text/plain": [
       "{'source': b'The New York Times'}"
      ]
     },
     "execution_count": 64,
     "metadata": {},
     "output_type": "execute_result"
    }
   ],
   "source": [
    "di"
   ]
  },
  {
   "cell_type": "code",
   "execution_count": 65,
   "metadata": {},
   "outputs": [
    {
     "ename": "TypeError",
     "evalue": "must be str, not bytes",
     "output_type": "error",
     "traceback": [
      "\u001b[0;31m---------------------------------------------------------------------------\u001b[0m",
      "\u001b[0;31mTypeError\u001b[0m                                 Traceback (most recent call last)",
      "\u001b[0;32m<ipython-input-65-acc4238cf021>\u001b[0m in \u001b[0;36m<module>\u001b[0;34m()\u001b[0m\n\u001b[0;32m----> 1\u001b[0;31m \u001b[0marticles\u001b[0m \u001b[0;34m=\u001b[0m \u001b[0mapi\u001b[0m\u001b[0;34m.\u001b[0m\u001b[0msearch\u001b[0m\u001b[0;34m(\u001b[0m\u001b[0mq\u001b[0m \u001b[0;34m=\u001b[0m \u001b[0;34m'test'\u001b[0m\u001b[0;34m,\u001b[0m \u001b[0mfq\u001b[0m\u001b[0;34m=\u001b[0m\u001b[0mdi\u001b[0m\u001b[0;34m)\u001b[0m\u001b[0;34m\u001b[0m\u001b[0m\n\u001b[0m",
      "\u001b[0;32m/home/ejmejm/anaconda3/lib/python3.6/site-packages/nytimesarticle.py\u001b[0m in \u001b[0;36msearch\u001b[0;34m(self, response_format, key, **kwargs)\u001b[0m\n\u001b[1;32m    109\u001b[0m \u001b[0;34m\u001b[0m\u001b[0m\n\u001b[1;32m    110\u001b[0m         url = '%s%s?%sapi-key=%s' % (\n\u001b[0;32m--> 111\u001b[0;31m             \u001b[0mAPI_ROOT\u001b[0m\u001b[0;34m,\u001b[0m \u001b[0mresponse_format\u001b[0m\u001b[0;34m,\u001b[0m \u001b[0mself\u001b[0m\u001b[0;34m.\u001b[0m\u001b[0m_options\u001b[0m\u001b[0;34m(\u001b[0m\u001b[0;34m**\u001b[0m\u001b[0mkwargs\u001b[0m\u001b[0;34m)\u001b[0m\u001b[0;34m,\u001b[0m \u001b[0mkey\u001b[0m\u001b[0;34m\u001b[0m\u001b[0m\n\u001b[0m\u001b[1;32m    112\u001b[0m         )\n\u001b[1;32m    113\u001b[0m \u001b[0;34m\u001b[0m\u001b[0m\n",
      "\u001b[0;32m/home/ejmejm/anaconda3/lib/python3.6/site-packages/nytimesarticle.py\u001b[0m in \u001b[0;36m_options\u001b[0;34m(self, **kwargs)\u001b[0m\n\u001b[1;32m     82\u001b[0m         \u001b[0;32mfor\u001b[0m \u001b[0mk\u001b[0m\u001b[0;34m,\u001b[0m \u001b[0mv\u001b[0m \u001b[0;32min\u001b[0m \u001b[0mkwargs\u001b[0m\u001b[0;34m.\u001b[0m\u001b[0mitems\u001b[0m\u001b[0;34m(\u001b[0m\u001b[0;34m)\u001b[0m\u001b[0;34m:\u001b[0m\u001b[0;34m\u001b[0m\u001b[0m\n\u001b[1;32m     83\u001b[0m             \u001b[0;32mif\u001b[0m \u001b[0mk\u001b[0m \u001b[0;32mis\u001b[0m \u001b[0;34m'fq'\u001b[0m \u001b[0;32mand\u001b[0m \u001b[0misinstance\u001b[0m\u001b[0;34m(\u001b[0m\u001b[0mv\u001b[0m\u001b[0;34m,\u001b[0m \u001b[0mdict\u001b[0m\u001b[0;34m)\u001b[0m\u001b[0;34m:\u001b[0m\u001b[0;34m\u001b[0m\u001b[0m\n\u001b[0;32m---> 84\u001b[0;31m                 \u001b[0mv\u001b[0m \u001b[0;34m=\u001b[0m \u001b[0m_format_fq\u001b[0m\u001b[0;34m(\u001b[0m\u001b[0mv\u001b[0m\u001b[0;34m)\u001b[0m\u001b[0;34m\u001b[0m\u001b[0m\n\u001b[0m\u001b[1;32m     85\u001b[0m             \u001b[0;32melif\u001b[0m \u001b[0misinstance\u001b[0m\u001b[0;34m(\u001b[0m\u001b[0mv\u001b[0m\u001b[0;34m,\u001b[0m \u001b[0mlist\u001b[0m\u001b[0;34m)\u001b[0m\u001b[0;34m:\u001b[0m\u001b[0;34m\u001b[0m\u001b[0m\n\u001b[1;32m     86\u001b[0m                 \u001b[0mv\u001b[0m \u001b[0;34m=\u001b[0m \u001b[0;34m','\u001b[0m\u001b[0;34m.\u001b[0m\u001b[0mjoin\u001b[0m\u001b[0;34m(\u001b[0m\u001b[0mv\u001b[0m\u001b[0;34m)\u001b[0m\u001b[0;34m\u001b[0m\u001b[0m\n",
      "\u001b[0;32m/home/ejmejm/anaconda3/lib/python3.6/site-packages/nytimesarticle.py\u001b[0m in \u001b[0;36m_format_fq\u001b[0;34m(d)\u001b[0m\n\u001b[1;32m     67\u001b[0m                     \u001b[0md\u001b[0m\u001b[0;34m[\u001b[0m\u001b[0mk\u001b[0m\u001b[0;34m]\u001b[0m \u001b[0;34m=\u001b[0m \u001b[0;34m' '\u001b[0m\u001b[0;34m.\u001b[0m\u001b[0mjoin\u001b[0m\u001b[0;34m(\u001b[0m\u001b[0mmap\u001b[0m\u001b[0;34m(\u001b[0m\u001b[0;32mlambda\u001b[0m \u001b[0mx\u001b[0m\u001b[0;34m:\u001b[0m \u001b[0;34m'\"'\u001b[0m \u001b[0;34m+\u001b[0m \u001b[0mx\u001b[0m \u001b[0;34m+\u001b[0m \u001b[0;34m'\"'\u001b[0m\u001b[0;34m,\u001b[0m \u001b[0mv\u001b[0m\u001b[0;34m)\u001b[0m\u001b[0;34m)\u001b[0m\u001b[0;34m\u001b[0m\u001b[0m\n\u001b[1;32m     68\u001b[0m                 \u001b[0;32melse\u001b[0m\u001b[0;34m:\u001b[0m\u001b[0;34m\u001b[0m\u001b[0m\n\u001b[0;32m---> 69\u001b[0;31m                     \u001b[0md\u001b[0m\u001b[0;34m[\u001b[0m\u001b[0mk\u001b[0m\u001b[0;34m]\u001b[0m \u001b[0;34m=\u001b[0m \u001b[0;34m'\"'\u001b[0m \u001b[0;34m+\u001b[0m \u001b[0mv\u001b[0m \u001b[0;34m+\u001b[0m \u001b[0;34m'\"'\u001b[0m\u001b[0;34m\u001b[0m\u001b[0m\n\u001b[0m\u001b[1;32m     70\u001b[0m             \u001b[0mvalues\u001b[0m \u001b[0;34m=\u001b[0m \u001b[0;34m[\u001b[0m\u001b[0;34m]\u001b[0m\u001b[0;34m\u001b[0m\u001b[0m\n\u001b[1;32m     71\u001b[0m             \u001b[0;32mfor\u001b[0m \u001b[0mk\u001b[0m\u001b[0;34m,\u001b[0m\u001b[0mv\u001b[0m \u001b[0;32min\u001b[0m \u001b[0md\u001b[0m\u001b[0;34m.\u001b[0m\u001b[0mitems\u001b[0m\u001b[0;34m(\u001b[0m\u001b[0;34m)\u001b[0m\u001b[0;34m:\u001b[0m\u001b[0;34m\u001b[0m\u001b[0m\n",
      "\u001b[0;31mTypeError\u001b[0m: must be str, not bytes"
     ]
    }
   ],
   "source": [
    "articles = api.search(q = 'test', fq=di)"
   ]
  },
  {
   "cell_type": "code",
   "execution_count": 38,
   "metadata": {},
   "outputs": [
    {
     "ename": "TypeError",
     "evalue": "must be str, not bytes",
     "output_type": "error",
     "traceback": [
      "\u001b[0;31m---------------------------------------------------------------------------\u001b[0m",
      "\u001b[0;31mTypeError\u001b[0m                                 Traceback (most recent call last)",
      "\u001b[0;32m<ipython-input-38-f8d8577bd790>\u001b[0m in \u001b[0;36m<module>\u001b[0;34m()\u001b[0m\n\u001b[0;32m----> 1\u001b[0;31m \u001b[0ma\u001b[0m \u001b[0;34m=\u001b[0m \u001b[0mget_articles\u001b[0m\u001b[0;34m(\u001b[0m\u001b[0;34m'2017'\u001b[0m\u001b[0;34m,\u001b[0m \u001b[0;34m''\u001b[0m\u001b[0;34m)\u001b[0m\u001b[0;34m\u001b[0m\u001b[0m\n\u001b[0m",
      "\u001b[0;32m<ipython-input-37-9d5df6add390>\u001b[0m in \u001b[0;36mget_articles\u001b[0;34m(date, query)\u001b[0m\n\u001b[1;32m      9\u001b[0m     \u001b[0;32mfor\u001b[0m \u001b[0mi\u001b[0m \u001b[0;32min\u001b[0m \u001b[0mrange\u001b[0m\u001b[0;34m(\u001b[0m\u001b[0;36m0\u001b[0m\u001b[0;34m,\u001b[0m\u001b[0;36m100\u001b[0m\u001b[0;34m)\u001b[0m\u001b[0;34m:\u001b[0m \u001b[0;31m#NYT limits pager to first 100 pages. But rarely will you find over 100 pages of results anyway.\u001b[0m\u001b[0;34m\u001b[0m\u001b[0m\n\u001b[1;32m     10\u001b[0m         articles = api.search(q = query,\n\u001b[0;32m---> 11\u001b[0;31m                fq = {'source':['Reuters','AP', 'The New York Times']})\n\u001b[0m\u001b[1;32m     12\u001b[0m         \u001b[0marticles\u001b[0m \u001b[0;34m=\u001b[0m \u001b[0mparse_articles\u001b[0m\u001b[0;34m(\u001b[0m\u001b[0marticles\u001b[0m\u001b[0;34m)\u001b[0m\u001b[0;34m\u001b[0m\u001b[0m\n\u001b[1;32m     13\u001b[0m         \u001b[0mall_articles\u001b[0m \u001b[0;34m=\u001b[0m \u001b[0mall_articles\u001b[0m \u001b[0;34m+\u001b[0m \u001b[0marticles\u001b[0m\u001b[0;34m\u001b[0m\u001b[0m\n",
      "\u001b[0;32m/home/ejmejm/anaconda3/lib/python3.6/site-packages/nytimesarticle.py\u001b[0m in \u001b[0;36msearch\u001b[0;34m(self, response_format, key, **kwargs)\u001b[0m\n\u001b[1;32m    109\u001b[0m \u001b[0;34m\u001b[0m\u001b[0m\n\u001b[1;32m    110\u001b[0m         url = '%s%s?%sapi-key=%s' % (\n\u001b[0;32m--> 111\u001b[0;31m             \u001b[0mAPI_ROOT\u001b[0m\u001b[0;34m,\u001b[0m \u001b[0mresponse_format\u001b[0m\u001b[0;34m,\u001b[0m \u001b[0mself\u001b[0m\u001b[0;34m.\u001b[0m\u001b[0m_options\u001b[0m\u001b[0;34m(\u001b[0m\u001b[0;34m**\u001b[0m\u001b[0mkwargs\u001b[0m\u001b[0;34m)\u001b[0m\u001b[0;34m,\u001b[0m \u001b[0mkey\u001b[0m\u001b[0;34m\u001b[0m\u001b[0m\n\u001b[0m\u001b[1;32m    112\u001b[0m         )\n\u001b[1;32m    113\u001b[0m \u001b[0;34m\u001b[0m\u001b[0m\n",
      "\u001b[0;32m/home/ejmejm/anaconda3/lib/python3.6/site-packages/nytimesarticle.py\u001b[0m in \u001b[0;36m_options\u001b[0;34m(self, **kwargs)\u001b[0m\n\u001b[1;32m     82\u001b[0m         \u001b[0;32mfor\u001b[0m \u001b[0mk\u001b[0m\u001b[0;34m,\u001b[0m \u001b[0mv\u001b[0m \u001b[0;32min\u001b[0m \u001b[0mkwargs\u001b[0m\u001b[0;34m.\u001b[0m\u001b[0mitems\u001b[0m\u001b[0;34m(\u001b[0m\u001b[0;34m)\u001b[0m\u001b[0;34m:\u001b[0m\u001b[0;34m\u001b[0m\u001b[0m\n\u001b[1;32m     83\u001b[0m             \u001b[0;32mif\u001b[0m \u001b[0mk\u001b[0m \u001b[0;32mis\u001b[0m \u001b[0;34m'fq'\u001b[0m \u001b[0;32mand\u001b[0m \u001b[0misinstance\u001b[0m\u001b[0;34m(\u001b[0m\u001b[0mv\u001b[0m\u001b[0;34m,\u001b[0m \u001b[0mdict\u001b[0m\u001b[0;34m)\u001b[0m\u001b[0;34m:\u001b[0m\u001b[0;34m\u001b[0m\u001b[0m\n\u001b[0;32m---> 84\u001b[0;31m                 \u001b[0mv\u001b[0m \u001b[0;34m=\u001b[0m \u001b[0m_format_fq\u001b[0m\u001b[0;34m(\u001b[0m\u001b[0mv\u001b[0m\u001b[0;34m)\u001b[0m\u001b[0;34m\u001b[0m\u001b[0m\n\u001b[0m\u001b[1;32m     85\u001b[0m             \u001b[0;32melif\u001b[0m \u001b[0misinstance\u001b[0m\u001b[0;34m(\u001b[0m\u001b[0mv\u001b[0m\u001b[0;34m,\u001b[0m \u001b[0mlist\u001b[0m\u001b[0;34m)\u001b[0m\u001b[0;34m:\u001b[0m\u001b[0;34m\u001b[0m\u001b[0m\n\u001b[1;32m     86\u001b[0m                 \u001b[0mv\u001b[0m \u001b[0;34m=\u001b[0m \u001b[0;34m','\u001b[0m\u001b[0;34m.\u001b[0m\u001b[0mjoin\u001b[0m\u001b[0;34m(\u001b[0m\u001b[0mv\u001b[0m\u001b[0;34m)\u001b[0m\u001b[0;34m\u001b[0m\u001b[0m\n",
      "\u001b[0;32m/home/ejmejm/anaconda3/lib/python3.6/site-packages/nytimesarticle.py\u001b[0m in \u001b[0;36m_format_fq\u001b[0;34m(d)\u001b[0m\n\u001b[1;32m     65\u001b[0m             \u001b[0;32mfor\u001b[0m \u001b[0mk\u001b[0m\u001b[0;34m,\u001b[0m\u001b[0mv\u001b[0m \u001b[0;32min\u001b[0m \u001b[0md\u001b[0m\u001b[0;34m.\u001b[0m\u001b[0mitems\u001b[0m\u001b[0;34m(\u001b[0m\u001b[0;34m)\u001b[0m\u001b[0;34m:\u001b[0m\u001b[0;34m\u001b[0m\u001b[0m\n\u001b[1;32m     66\u001b[0m                 \u001b[0;32mif\u001b[0m \u001b[0misinstance\u001b[0m\u001b[0;34m(\u001b[0m\u001b[0mv\u001b[0m\u001b[0;34m,\u001b[0m \u001b[0mlist\u001b[0m\u001b[0;34m)\u001b[0m\u001b[0;34m:\u001b[0m\u001b[0;34m\u001b[0m\u001b[0m\n\u001b[0;32m---> 67\u001b[0;31m                     \u001b[0md\u001b[0m\u001b[0;34m[\u001b[0m\u001b[0mk\u001b[0m\u001b[0;34m]\u001b[0m \u001b[0;34m=\u001b[0m \u001b[0;34m' '\u001b[0m\u001b[0;34m.\u001b[0m\u001b[0mjoin\u001b[0m\u001b[0;34m(\u001b[0m\u001b[0mmap\u001b[0m\u001b[0;34m(\u001b[0m\u001b[0;32mlambda\u001b[0m \u001b[0mx\u001b[0m\u001b[0;34m:\u001b[0m \u001b[0;34m'\"'\u001b[0m \u001b[0;34m+\u001b[0m \u001b[0mx\u001b[0m \u001b[0;34m+\u001b[0m \u001b[0;34m'\"'\u001b[0m\u001b[0;34m,\u001b[0m \u001b[0mv\u001b[0m\u001b[0;34m)\u001b[0m\u001b[0;34m)\u001b[0m\u001b[0;34m\u001b[0m\u001b[0m\n\u001b[0m\u001b[1;32m     68\u001b[0m                 \u001b[0;32melse\u001b[0m\u001b[0;34m:\u001b[0m\u001b[0;34m\u001b[0m\u001b[0m\n\u001b[1;32m     69\u001b[0m                     \u001b[0md\u001b[0m\u001b[0;34m[\u001b[0m\u001b[0mk\u001b[0m\u001b[0;34m]\u001b[0m \u001b[0;34m=\u001b[0m \u001b[0;34m'\"'\u001b[0m \u001b[0;34m+\u001b[0m \u001b[0mv\u001b[0m \u001b[0;34m+\u001b[0m \u001b[0;34m'\"'\u001b[0m\u001b[0;34m\u001b[0m\u001b[0m\n",
      "\u001b[0;32m/home/ejmejm/anaconda3/lib/python3.6/site-packages/nytimesarticle.py\u001b[0m in \u001b[0;36m<lambda>\u001b[0;34m(x)\u001b[0m\n\u001b[1;32m     65\u001b[0m             \u001b[0;32mfor\u001b[0m \u001b[0mk\u001b[0m\u001b[0;34m,\u001b[0m\u001b[0mv\u001b[0m \u001b[0;32min\u001b[0m \u001b[0md\u001b[0m\u001b[0;34m.\u001b[0m\u001b[0mitems\u001b[0m\u001b[0;34m(\u001b[0m\u001b[0;34m)\u001b[0m\u001b[0;34m:\u001b[0m\u001b[0;34m\u001b[0m\u001b[0m\n\u001b[1;32m     66\u001b[0m                 \u001b[0;32mif\u001b[0m \u001b[0misinstance\u001b[0m\u001b[0;34m(\u001b[0m\u001b[0mv\u001b[0m\u001b[0;34m,\u001b[0m \u001b[0mlist\u001b[0m\u001b[0;34m)\u001b[0m\u001b[0;34m:\u001b[0m\u001b[0;34m\u001b[0m\u001b[0m\n\u001b[0;32m---> 67\u001b[0;31m                     \u001b[0md\u001b[0m\u001b[0;34m[\u001b[0m\u001b[0mk\u001b[0m\u001b[0;34m]\u001b[0m \u001b[0;34m=\u001b[0m \u001b[0;34m' '\u001b[0m\u001b[0;34m.\u001b[0m\u001b[0mjoin\u001b[0m\u001b[0;34m(\u001b[0m\u001b[0mmap\u001b[0m\u001b[0;34m(\u001b[0m\u001b[0;32mlambda\u001b[0m \u001b[0mx\u001b[0m\u001b[0;34m:\u001b[0m \u001b[0;34m'\"'\u001b[0m \u001b[0;34m+\u001b[0m \u001b[0mx\u001b[0m \u001b[0;34m+\u001b[0m \u001b[0;34m'\"'\u001b[0m\u001b[0;34m,\u001b[0m \u001b[0mv\u001b[0m\u001b[0;34m)\u001b[0m\u001b[0;34m)\u001b[0m\u001b[0;34m\u001b[0m\u001b[0m\n\u001b[0m\u001b[1;32m     68\u001b[0m                 \u001b[0;32melse\u001b[0m\u001b[0;34m:\u001b[0m\u001b[0;34m\u001b[0m\u001b[0m\n\u001b[1;32m     69\u001b[0m                     \u001b[0md\u001b[0m\u001b[0;34m[\u001b[0m\u001b[0mk\u001b[0m\u001b[0;34m]\u001b[0m \u001b[0;34m=\u001b[0m \u001b[0;34m'\"'\u001b[0m \u001b[0;34m+\u001b[0m \u001b[0mv\u001b[0m \u001b[0;34m+\u001b[0m \u001b[0;34m'\"'\u001b[0m\u001b[0;34m\u001b[0m\u001b[0m\n",
      "\u001b[0;31mTypeError\u001b[0m: must be str, not bytes"
     ]
    }
   ],
   "source": [
    "a = get_articles('2017', '')"
   ]
  },
  {
   "cell_type": "code",
   "execution_count": 31,
   "metadata": {
    "collapsed": true
   },
   "outputs": [],
   "source": [
    "# // Built by LucyBot. www.lucybot.com\n",
    "# var url = \"https://api.nytimes.com/svc/archive/v1/2016/1.json\";\n",
    "# url += '?' + $.param({\n",
    "#   'api-key': \"e68cb4dbfc544ab9b8099f7333bb935e\"\n",
    "# });\n",
    "# $.ajax({\n",
    "#   url: url,\n",
    "#   method: 'GET',\n",
    "# }).done(function(result) {\n",
    "#   console.log(result);\n",
    "# }).fail(function(err) {\n",
    "#   throw err;\n",
    "# });"
   ]
  },
  {
   "cell_type": "code",
   "execution_count": 16,
   "metadata": {
    "collapsed": true
   },
   "outputs": [],
   "source": [
    "import requests\n",
    "import json\n",
    "import pickle"
   ]
  },
  {
   "cell_type": "code",
   "execution_count": 3,
   "metadata": {
    "collapsed": true
   },
   "outputs": [],
   "source": [
    "NYT_api_key = 'e68cb4dbfc544ab9b8099f7333bb935e'"
   ]
  },
  {
   "cell_type": "code",
   "execution_count": 4,
   "metadata": {
    "collapsed": true
   },
   "outputs": [],
   "source": [
    "def getNYTMonth(year, month):\n",
    "    request_url = 'https://api.nytimes.com/svc/archive/v1/{}/{}.json'.format(year, month)\n",
    "    request_url += '?api-key=' + NYT_api_key\n",
    "    response = requests.get(request_url)\n",
    "    if not response.ok:\n",
    "        return response\n",
    "    json_response = json.loads(response.content)\n",
    "    articles = [] # In format (Timestamp, Headline, Keywords)\n",
    "    for doc in json_response['response']['docs']:\n",
    "        try:\n",
    "            key_words = []\n",
    "            for key_word in doc['keywords']:\n",
    "                key_words.append(key_word['value'])\n",
    "            articles.append((doc['pub_date'], doc['headline']['main'], key_words))\n",
    "        except KeyError:\n",
    "            continue\n",
    "    return articles"
   ]
  },
  {
   "cell_type": "code",
   "execution_count": 5,
   "metadata": {
    "collapsed": true
   },
   "outputs": [],
   "source": [
    "articles = getNYTMonth(2017, 5)"
   ]
  },
  {
   "cell_type": "code",
   "execution_count": 9,
   "metadata": {},
   "outputs": [],
   "source": [
    "for art in articles:\n",
    "    if '$SEP$' in art[1]:\n",
    "        print(art[1])"
   ]
  },
  {
   "cell_type": "code",
   "execution_count": 14,
   "metadata": {
    "collapsed": true
   },
   "outputs": [],
   "source": [
    "def saveArticles(articles, file_path):\n",
    "    with open(file_path, 'w+') as f:\n",
    "        for article in articles:\n",
    "            f.write(str(article))\n",
    "            f.write('\\n')"
   ]
  },
  {
   "cell_type": "code",
   "execution_count": 15,
   "metadata": {},
   "outputs": [],
   "source": [
    "saveArticles(articles, 'test.txt')"
   ]
  },
  {
   "cell_type": "code",
   "execution_count": 19,
   "metadata": {},
   "outputs": [],
   "source": [
    "pickle.dump(articles, open('test.pkl', 'wb'))"
   ]
  },
  {
   "cell_type": "code",
   "execution_count": null,
   "metadata": {
    "collapsed": true
   },
   "outputs": [],
   "source": []
  }
 ],
 "metadata": {
  "kernelspec": {
   "display_name": "Python 3",
   "language": "python",
   "name": "python3"
  },
  "language_info": {
   "codemirror_mode": {
    "name": "ipython",
    "version": 3
   },
   "file_extension": ".py",
   "mimetype": "text/x-python",
   "name": "python",
   "nbconvert_exporter": "python",
   "pygments_lexer": "ipython3",
   "version": "3.6.1"
  }
 },
 "nbformat": 4,
 "nbformat_minor": 2
}
