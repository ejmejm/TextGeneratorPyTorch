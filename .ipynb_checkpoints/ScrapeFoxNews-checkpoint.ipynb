{
 "cells": [
  {
   "cell_type": "code",
   "execution_count": 1,
   "metadata": {},
   "outputs": [
    {
     "ename": "SyntaxError",
     "evalue": "Missing parentheses in call to 'print' (<ipython-input-1-021f75a8536a>, line 33)",
     "output_type": "error",
     "traceback": [
      "\u001b[0;36m  File \u001b[0;32m\"<ipython-input-1-021f75a8536a>\"\u001b[0;36m, line \u001b[0;32m33\u001b[0m\n\u001b[0;31m    print stories[i][\"headline\"]\u001b[0m\n\u001b[0m                ^\u001b[0m\n\u001b[0;31mSyntaxError\u001b[0m\u001b[0;31m:\u001b[0m Missing parentheses in call to 'print'\n"
     ]
    }
   ],
   "source": [
    "import requests\n",
    "from bs4 import BeautifulSoup\n",
    "import urllib\n",
    "\n",
    "stories = []\n",
    "\n",
    "def getTheGoodStuff(newsstories):\n",
    "    global stories\n",
    "    for data in newsstories:\n",
    "        htmlatag = data.find(\"h2\", class_=\"title\").find(\"a\")\n",
    "        headline = htmlatag.getText()\n",
    "        url = htmlatag.get(\"href\")\n",
    "        d = {\"headline\" : headline,\n",
    "             \"url\" : url}\n",
    "        stories.append(d)\n",
    "\n",
    "def scrapeWebsites():\n",
    "    global stories\n",
    "    \n",
    "    # Getting stories from Fox News.\n",
    "    foxnews = \"http://www.foxnews.com/\"\n",
    "    page = urllib.urlopen(foxnews)\n",
    "    r  = requests.get(foxnews)\n",
    "    data = r.text\n",
    "    soup = BeautifulSoup(data,\"lxml\")\n",
    "    for i in range(0, 15):\n",
    "        foundstories = soup.find_all(\"article\", class_=\"article story-\" + str(i))\n",
    "        getTheGoodStuff(foundstories)\n",
    "    \n",
    "def displayStories():\n",
    "    global stories\n",
    "    for i in range(0, len(stories)):\n",
    "        print(stories[i][\"headline\"])\n",
    "        print(stories[i]['url'])\n",
    "        print(\"\")\n",
    "    \n",
    "scrapeWebsites()\n",
    "displayStories()"
   ]
  },
  {
   "cell_type": "code",
   "execution_count": null,
   "metadata": {
    "collapsed": true
   },
   "outputs": [],
   "source": []
  }
 ],
 "metadata": {
  "kernelspec": {
   "display_name": "Python 3",
   "language": "python",
   "name": "python3"
  },
  "language_info": {
   "codemirror_mode": {
    "name": "ipython",
    "version": 3
   },
   "file_extension": ".py",
   "mimetype": "text/x-python",
   "name": "python",
   "nbconvert_exporter": "python",
   "pygments_lexer": "ipython3",
   "version": "3.6.1"
  }
 },
 "nbformat": 4,
 "nbformat_minor": 2
}
