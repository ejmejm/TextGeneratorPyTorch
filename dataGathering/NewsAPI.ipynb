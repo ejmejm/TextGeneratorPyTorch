{
 "cells": [
  {
   "cell_type": "code",
   "execution_count": 2,
   "metadata": {
    "collapsed": true
   },
   "outputs": [],
   "source": [
    "from newsapi import NewsApiClient"
   ]
  },
  {
   "cell_type": "code",
   "execution_count": 3,
   "metadata": {
    "collapsed": true
   },
   "outputs": [],
   "source": [
    "newsapi = NewsApiClient(api_key='fd5917d8c6cb47a89bae1ade2981652e')"
   ]
  },
  {
   "cell_type": "code",
   "execution_count": 31,
   "metadata": {},
   "outputs": [],
   "source": [
    "top_headlines = newsapi.get_top_headlines(sources='the-new-york-times, fox-news',\n",
    "                                          language='en')"
   ]
  },
  {
   "cell_type": "code",
   "execution_count": 37,
   "metadata": {},
   "outputs": [
    {
     "data": {
      "text/plain": [
       "[\"Fox News, Julie Swetnick's ex-boyfriend, former Dem congressional candidate, says he doesn't believe her claims\",\n",
       " 'Fox News, Packages sent to Pentagon test positive for ricin',\n",
       " 'Fox News, Anti-Kavanaugh protesters accosting senators have ties to Soros',\n",
       " \"Fox News, Trump reaped millions in shady tax schemes from father's business, report says; NY Tax Department 'reviewing' allegations\",\n",
       " 'Fox News, Inhofe: No one has corroborated any of Kavanaugh allegations',\n",
       " 'Fox News, CBS fires ‘NCIS: New Orleans’ showrunner Brad Kern after misconduct investigation',\n",
       " 'Fox News, Curious lioness plants slobbery kiss on GoPro Fusion camera',\n",
       " 'Fox News, Trump: Very scary time for young men in America',\n",
       " \"Fox News, Fight over Kavanaugh could impact Heitkamp's re-election bid\",\n",
       " 'The New York Times, Trump Sees ‘Very Scary Time’ for Men in the #MeToo Era',\n",
       " 'The New York Times, F.B.I. to Complete Inquiry Wednesday With Vote Coming This Week',\n",
       " 'The New York Times, 11 Takeaways From The Times’s Investigation Into Trump’s Wealth',\n",
       " 'The New York Times, 4 Ways Fred Trump Made Donald Trump and his Siblings Rich',\n",
       " 'Fox News, Secret identity of 150-year-old body found in NYC revealed',\n",
       " 'The New York Times, How to Help Survivors of the Indonesia Earthquake and Tsunami',\n",
       " 'The New York Times, Indonesia Earthquake and Tsunami: Before and After Photos of the Destruction',\n",
       " 'The New York Times, Amazon to Raise Minimum Hourly Wage to $15 for All U.S. Workers',\n",
       " 'The New York Times, The People the F.B.I. Has Interviewed in the Kavanaugh Investigation — and Those It Has Not',\n",
       " 'The New York Times, Indonesia Tsunami Sets Off Desperate Effort to Account for Dead',\n",
       " 'The New York Times, Everything You Need to Know for the Midterm Elections']"
      ]
     },
     "execution_count": 37,
     "metadata": {},
     "output_type": "execute_result"
    }
   ],
   "source": [
    "[str(x['source']['name']) + ', ' + str(x['title']) for x in top_headlines['articles']]"
   ]
  },
  {
   "cell_type": "code",
   "execution_count": 40,
   "metadata": {},
   "outputs": [
    {
     "ename": "NewsAPIException",
     "evalue": "{'status': 'error', 'code': 'parameterInvalid', 'message': 'You are trying to request results too far in the past. Your plan permits you to request articles as far back as 2018-09-01, but you have requested 2017-12-01. To extend this please upgrade your subscription.'}",
     "output_type": "error",
     "traceback": [
      "\u001b[0;31m---------------------------------------------------------------------------\u001b[0m",
      "\u001b[0;31mNewsAPIException\u001b[0m                          Traceback (most recent call last)",
      "\u001b[0;32m<ipython-input-40-877ad135f4cb>\u001b[0m in \u001b[0;36m<module>\u001b[0;34m()\u001b[0m\n\u001b[1;32m      2\u001b[0m                                         \u001b[0mfrom_param\u001b[0m\u001b[0;34m=\u001b[0m\u001b[0;34m'2017-12-01'\u001b[0m\u001b[0;34m,\u001b[0m\u001b[0;34m\u001b[0m\u001b[0m\n\u001b[1;32m      3\u001b[0m                                         \u001b[0mto\u001b[0m\u001b[0;34m=\u001b[0m\u001b[0;34m'2017-12-12'\u001b[0m\u001b[0;34m,\u001b[0m\u001b[0;34m\u001b[0m\u001b[0m\n\u001b[0;32m----> 4\u001b[0;31m                                         language='en')\n\u001b[0m",
      "\u001b[0;32m/home/ejmejm/anaconda3/lib/python3.6/site-packages/newsapi/newsapi_client.py\u001b[0m in \u001b[0;36mget_everything\u001b[0;34m(self, q, sources, domains, from_param, to, language, sort_by, page, page_size)\u001b[0m\n\u001b[1;32m    250\u001b[0m         \u001b[0;31m# Check Status of Request\u001b[0m\u001b[0;34m\u001b[0m\u001b[0;34m\u001b[0m\u001b[0m\n\u001b[1;32m    251\u001b[0m         \u001b[0;32mif\u001b[0m \u001b[0mr\u001b[0m\u001b[0;34m.\u001b[0m\u001b[0mstatus_code\u001b[0m \u001b[0;34m!=\u001b[0m \u001b[0mrequests\u001b[0m\u001b[0;34m.\u001b[0m\u001b[0mcodes\u001b[0m\u001b[0;34m.\u001b[0m\u001b[0mok\u001b[0m\u001b[0;34m:\u001b[0m\u001b[0;34m\u001b[0m\u001b[0m\n\u001b[0;32m--> 252\u001b[0;31m             \u001b[0;32mraise\u001b[0m \u001b[0mNewsAPIException\u001b[0m\u001b[0;34m(\u001b[0m\u001b[0mr\u001b[0m\u001b[0;34m.\u001b[0m\u001b[0mjson\u001b[0m\u001b[0;34m(\u001b[0m\u001b[0;34m)\u001b[0m\u001b[0;34m)\u001b[0m\u001b[0;34m\u001b[0m\u001b[0m\n\u001b[0m\u001b[1;32m    253\u001b[0m \u001b[0;34m\u001b[0m\u001b[0m\n\u001b[1;32m    254\u001b[0m         \u001b[0;32mreturn\u001b[0m \u001b[0mr\u001b[0m\u001b[0;34m.\u001b[0m\u001b[0mjson\u001b[0m\u001b[0;34m(\u001b[0m\u001b[0;34m)\u001b[0m\u001b[0;34m\u001b[0m\u001b[0m\n",
      "\u001b[0;31mNewsAPIException\u001b[0m: {'status': 'error', 'code': 'parameterInvalid', 'message': 'You are trying to request results too far in the past. Your plan permits you to request articles as far back as 2018-09-01, but you have requested 2017-12-01. To extend this please upgrade your subscription.'}"
     ]
    }
   ],
   "source": [
    "top_headlines = newsapi.get_everything(sources='the-new-york-times, fox-news',\n",
    "                                        from_param='2017-12-01',\n",
    "                                        to='2017-12-12',\n",
    "                                        language='en')"
   ]
  },
  {
   "cell_type": "code",
   "execution_count": 38,
   "metadata": {
    "collapsed": true
   },
   "outputs": [],
   "source": [
    "sources = newsapi.get_sources()"
   ]
  },
  {
   "cell_type": "code",
   "execution_count": 27,
   "metadata": {},
   "outputs": [
    {
     "data": {
      "text/plain": [
       "[('ABC News', 'abc-news'),\n",
       " ('ABC News (AU)', 'abc-news-au'),\n",
       " ('Aftenposten', 'aftenposten'),\n",
       " ('Al Jazeera English', 'al-jazeera-english'),\n",
       " ('ANSA.it', 'ansa'),\n",
       " ('Argaam', 'argaam'),\n",
       " ('Ars Technica', 'ars-technica'),\n",
       " ('Ary News', 'ary-news'),\n",
       " ('Associated Press', 'associated-press'),\n",
       " ('Australian Financial Review', 'australian-financial-review'),\n",
       " ('Axios', 'axios'),\n",
       " ('BBC News', 'bbc-news'),\n",
       " ('BBC Sport', 'bbc-sport'),\n",
       " ('Bild', 'bild'),\n",
       " ('Blasting News (BR)', 'blasting-news-br'),\n",
       " ('Bleacher Report', 'bleacher-report'),\n",
       " ('Bloomberg', 'bloomberg'),\n",
       " ('Breitbart News', 'breitbart-news'),\n",
       " ('Business Insider', 'business-insider'),\n",
       " ('Business Insider (UK)', 'business-insider-uk'),\n",
       " ('Buzzfeed', 'buzzfeed'),\n",
       " ('CBC News', 'cbc-news'),\n",
       " ('CBS News', 'cbs-news'),\n",
       " ('CNBC', 'cnbc'),\n",
       " ('CNN', 'cnn'),\n",
       " ('CNN Spanish', 'cnn-es'),\n",
       " ('Crypto Coins News', 'crypto-coins-news'),\n",
       " ('Daily Mail', 'daily-mail'),\n",
       " ('Der Tagesspiegel', 'der-tagesspiegel'),\n",
       " ('Die Zeit', 'die-zeit'),\n",
       " ('El Mundo', 'el-mundo'),\n",
       " ('Engadget', 'engadget'),\n",
       " ('Entertainment Weekly', 'entertainment-weekly'),\n",
       " ('ESPN', 'espn'),\n",
       " ('ESPN Cric Info', 'espn-cric-info'),\n",
       " ('Financial Post', 'financial-post'),\n",
       " ('Financial Times', 'financial-times'),\n",
       " ('Focus', 'focus'),\n",
       " ('Football Italia', 'football-italia'),\n",
       " ('Fortune', 'fortune'),\n",
       " ('FourFourTwo', 'four-four-two'),\n",
       " ('Fox News', 'fox-news'),\n",
       " ('Fox Sports', 'fox-sports'),\n",
       " ('Globo', 'globo'),\n",
       " ('Google News', 'google-news'),\n",
       " ('Google News (Argentina)', 'google-news-ar'),\n",
       " ('Google News (Australia)', 'google-news-au'),\n",
       " ('Google News (Brasil)', 'google-news-br'),\n",
       " ('Google News (Canada)', 'google-news-ca'),\n",
       " ('Google News (France)', 'google-news-fr'),\n",
       " ('Google News (India)', 'google-news-in'),\n",
       " ('Google News (Israel)', 'google-news-is'),\n",
       " ('Google News (Italy)', 'google-news-it'),\n",
       " ('Google News (Russia)', 'google-news-ru'),\n",
       " ('Google News (Saudi Arabia)', 'google-news-sa'),\n",
       " ('Google News (UK)', 'google-news-uk'),\n",
       " ('Göteborgs-Posten', 'goteborgs-posten'),\n",
       " ('Gruenderszene', 'gruenderszene'),\n",
       " ('Hacker News', 'hacker-news'),\n",
       " ('Handelsblatt', 'handelsblatt'),\n",
       " ('IGN', 'ign'),\n",
       " ('Il Sole 24 Ore', 'il-sole-24-ore'),\n",
       " ('Independent', 'independent'),\n",
       " ('Infobae', 'infobae'),\n",
       " ('InfoMoney', 'info-money'),\n",
       " ('La Gaceta', 'la-gaceta'),\n",
       " ('La Nacion', 'la-nacion'),\n",
       " ('La Repubblica', 'la-repubblica'),\n",
       " ('Le Monde', 'le-monde'),\n",
       " ('Lenta', 'lenta'),\n",
       " (\"L'equipe\", 'lequipe'),\n",
       " ('Les Echos', 'les-echos'),\n",
       " ('Libération', 'liberation'),\n",
       " ('Marca', 'marca'),\n",
       " ('Mashable', 'mashable'),\n",
       " ('Medical News Today', 'medical-news-today'),\n",
       " ('Metro', 'metro'),\n",
       " ('Mirror', 'mirror'),\n",
       " ('MSNBC', 'msnbc'),\n",
       " ('MTV News', 'mtv-news'),\n",
       " ('MTV News (UK)', 'mtv-news-uk'),\n",
       " ('National Geographic', 'national-geographic'),\n",
       " ('National Review', 'national-review'),\n",
       " ('NBC News', 'nbc-news'),\n",
       " ('News24', 'news24'),\n",
       " ('New Scientist', 'new-scientist'),\n",
       " ('News.com.au', 'news-com-au'),\n",
       " ('Newsweek', 'newsweek'),\n",
       " ('New York Magazine', 'new-york-magazine'),\n",
       " ('Next Big Future', 'next-big-future'),\n",
       " ('NFL News', 'nfl-news'),\n",
       " ('NHL News', 'nhl-news'),\n",
       " ('NRK', 'nrk'),\n",
       " ('Politico', 'politico'),\n",
       " ('Polygon', 'polygon'),\n",
       " ('RBC', 'rbc'),\n",
       " ('Recode', 'recode'),\n",
       " ('Reddit /r/all', 'reddit-r-all'),\n",
       " ('Reuters', 'reuters'),\n",
       " ('RT', 'rt'),\n",
       " ('RTE', 'rte'),\n",
       " ('RTL Nieuws', 'rtl-nieuws'),\n",
       " ('SABQ', 'sabq'),\n",
       " ('Spiegel Online', 'spiegel-online'),\n",
       " ('Svenska Dagbladet', 'svenska-dagbladet'),\n",
       " ('T3n', 't3n'),\n",
       " ('TalkSport', 'talksport'),\n",
       " ('TechCrunch', 'techcrunch'),\n",
       " ('TechCrunch (CN)', 'techcrunch-cn'),\n",
       " ('TechRadar', 'techradar'),\n",
       " ('The American Conservative', 'the-american-conservative'),\n",
       " ('The Economist', 'the-economist'),\n",
       " ('The Globe And Mail', 'the-globe-and-mail'),\n",
       " ('The Guardian (AU)', 'the-guardian-au'),\n",
       " ('The Guardian (UK)', 'the-guardian-uk'),\n",
       " ('The Hill', 'the-hill'),\n",
       " ('The Hindu', 'the-hindu'),\n",
       " ('The Huffington Post', 'the-huffington-post'),\n",
       " ('The Irish Times', 'the-irish-times'),\n",
       " ('The Jerusalem Post', 'the-jerusalem-post'),\n",
       " ('The Lad Bible', 'the-lad-bible'),\n",
       " ('The New York Times', 'the-new-york-times'),\n",
       " ('The Next Web', 'the-next-web'),\n",
       " ('The Sport Bible', 'the-sport-bible'),\n",
       " ('The Telegraph', 'the-telegraph'),\n",
       " ('The Times of India', 'the-times-of-india'),\n",
       " ('The Verge', 'the-verge'),\n",
       " ('The Wall Street Journal', 'the-wall-street-journal'),\n",
       " ('The Washington Post', 'the-washington-post'),\n",
       " ('The Washington Times', 'the-washington-times'),\n",
       " ('Time', 'time'),\n",
       " ('USA Today', 'usa-today'),\n",
       " ('Vice News', 'vice-news'),\n",
       " ('Wired', 'wired'),\n",
       " ('Wired.de', 'wired-de'),\n",
       " ('Wirtschafts Woche', 'wirtschafts-woche'),\n",
       " ('Xinhua Net', 'xinhua-net'),\n",
       " ('Ynet', 'ynet')]"
      ]
     },
     "execution_count": 27,
     "metadata": {},
     "output_type": "execute_result"
    }
   ],
   "source": [
    "# List all sources\n",
    "[(source['name'], source['id']) for source in sources['sources']]\n",
    "# Includes 'The New York Times' under 'the-new-york-times'\n",
    "# Includes 'Fox News' under 'fox-news'"
   ]
  }
 ],
 "metadata": {
  "kernelspec": {
   "display_name": "Python 3",
   "language": "python",
   "name": "python3"
  },
  "language_info": {
   "codemirror_mode": {
    "name": "ipython",
    "version": 3
   },
   "file_extension": ".py",
   "mimetype": "text/x-python",
   "name": "python",
   "nbconvert_exporter": "python",
   "pygments_lexer": "ipython3",
   "version": "3.6.1"
  }
 },
 "nbformat": 4,
 "nbformat_minor": 2
}
