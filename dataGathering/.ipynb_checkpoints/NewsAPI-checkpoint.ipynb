{
 "cells": [
  {
   "cell_type": "code",
   "execution_count": 2,
   "metadata": {
    "collapsed": true
   },
   "outputs": [],
   "source": [
    "from newsapi import NewsApiClient"
   ]
  },
  {
   "cell_type": "code",
   "execution_count": 3,
   "metadata": {
    "collapsed": true
   },
   "outputs": [],
   "source": [
    "newsapi = NewsApiClient(api_key='fd5917d8c6cb47a89bae1ade2981652e')"
   ]
  },
  {
   "cell_type": "code",
   "execution_count": 31,
   "metadata": {},
   "outputs": [],
   "source": [
    "top_headlines = newsapi.get_top_headlines(\n",
    "                                          sources='the-new-york-times, fox-news',\n",
    "                                          language='en')"
   ]
  },
  {
   "cell_type": "code",
   "execution_count": 35,
   "metadata": {},
   "outputs": [
    {
     "data": {
      "text/plain": [
       "[\"Julie Swetnick's ex-boyfriend, former Dem congressional candidate, says he doesn't believe her claims, Fox News\",\n",
       " 'Packages sent to Pentagon test positive for ricin, Fox News',\n",
       " 'Anti-Kavanaugh protesters accosting senators have ties to Soros, Fox News',\n",
       " \"Trump reaped millions in shady tax schemes from father's business, report says; NY Tax Department 'reviewing' allegations, Fox News\",\n",
       " 'Inhofe: No one has corroborated any of Kavanaugh allegations, Fox News',\n",
       " 'CBS fires ‘NCIS: New Orleans’ showrunner Brad Kern after misconduct investigation, Fox News',\n",
       " 'Curious lioness plants slobbery kiss on GoPro Fusion camera, Fox News',\n",
       " 'Trump: Very scary time for young men in America, Fox News',\n",
       " \"Fight over Kavanaugh could impact Heitkamp's re-election bid, Fox News\",\n",
       " 'Trump Sees ‘Very Scary Time’ for Men in the #MeToo Era, The New York Times',\n",
       " 'F.B.I. to Complete Inquiry Wednesday With Vote Coming This Week, The New York Times',\n",
       " '11 Takeaways From The Times’s Investigation Into Trump’s Wealth, The New York Times',\n",
       " '4 Ways Fred Trump Made Donald Trump and his Siblings Rich, The New York Times',\n",
       " 'Secret identity of 150-year-old body found in NYC revealed, Fox News',\n",
       " 'How to Help Survivors of the Indonesia Earthquake and Tsunami, The New York Times',\n",
       " 'Indonesia Earthquake and Tsunami: Before and After Photos of the Destruction, The New York Times',\n",
       " 'Amazon to Raise Minimum Hourly Wage to $15 for All U.S. Workers, The New York Times',\n",
       " 'The People the F.B.I. Has Interviewed in the Kavanaugh Investigation — and Those It Has Not, The New York Times',\n",
       " 'Indonesia Tsunami Sets Off Desperate Effort to Account for Dead, The New York Times',\n",
       " 'Everything You Need to Know for the Midterm Elections, The New York Times']"
      ]
     },
     "execution_count": 35,
     "metadata": {},
     "output_type": "execute_result"
    }
   ],
   "source": [
    "[str(x['source'] + ', ' + ['name']str(x['title'])) for x in top_headlines['articles']]"
   ]
  },
  {
   "cell_type": "code",
   "execution_count": 18,
   "metadata": {
    "collapsed": true
   },
   "outputs": [],
   "source": [
    "sources = newsapi.get_sources()"
   ]
  },
  {
   "cell_type": "code",
   "execution_count": 27,
   "metadata": {},
   "outputs": [
    {
     "data": {
      "text/plain": [
       "[('ABC News', 'abc-news'),\n",
       " ('ABC News (AU)', 'abc-news-au'),\n",
       " ('Aftenposten', 'aftenposten'),\n",
       " ('Al Jazeera English', 'al-jazeera-english'),\n",
       " ('ANSA.it', 'ansa'),\n",
       " ('Argaam', 'argaam'),\n",
       " ('Ars Technica', 'ars-technica'),\n",
       " ('Ary News', 'ary-news'),\n",
       " ('Associated Press', 'associated-press'),\n",
       " ('Australian Financial Review', 'australian-financial-review'),\n",
       " ('Axios', 'axios'),\n",
       " ('BBC News', 'bbc-news'),\n",
       " ('BBC Sport', 'bbc-sport'),\n",
       " ('Bild', 'bild'),\n",
       " ('Blasting News (BR)', 'blasting-news-br'),\n",
       " ('Bleacher Report', 'bleacher-report'),\n",
       " ('Bloomberg', 'bloomberg'),\n",
       " ('Breitbart News', 'breitbart-news'),\n",
       " ('Business Insider', 'business-insider'),\n",
       " ('Business Insider (UK)', 'business-insider-uk'),\n",
       " ('Buzzfeed', 'buzzfeed'),\n",
       " ('CBC News', 'cbc-news'),\n",
       " ('CBS News', 'cbs-news'),\n",
       " ('CNBC', 'cnbc'),\n",
       " ('CNN', 'cnn'),\n",
       " ('CNN Spanish', 'cnn-es'),\n",
       " ('Crypto Coins News', 'crypto-coins-news'),\n",
       " ('Daily Mail', 'daily-mail'),\n",
       " ('Der Tagesspiegel', 'der-tagesspiegel'),\n",
       " ('Die Zeit', 'die-zeit'),\n",
       " ('El Mundo', 'el-mundo'),\n",
       " ('Engadget', 'engadget'),\n",
       " ('Entertainment Weekly', 'entertainment-weekly'),\n",
       " ('ESPN', 'espn'),\n",
       " ('ESPN Cric Info', 'espn-cric-info'),\n",
       " ('Financial Post', 'financial-post'),\n",
       " ('Financial Times', 'financial-times'),\n",
       " ('Focus', 'focus'),\n",
       " ('Football Italia', 'football-italia'),\n",
       " ('Fortune', 'fortune'),\n",
       " ('FourFourTwo', 'four-four-two'),\n",
       " ('Fox News', 'fox-news'),\n",
       " ('Fox Sports', 'fox-sports'),\n",
       " ('Globo', 'globo'),\n",
       " ('Google News', 'google-news'),\n",
       " ('Google News (Argentina)', 'google-news-ar'),\n",
       " ('Google News (Australia)', 'google-news-au'),\n",
       " ('Google News (Brasil)', 'google-news-br'),\n",
       " ('Google News (Canada)', 'google-news-ca'),\n",
       " ('Google News (France)', 'google-news-fr'),\n",
       " ('Google News (India)', 'google-news-in'),\n",
       " ('Google News (Israel)', 'google-news-is'),\n",
       " ('Google News (Italy)', 'google-news-it'),\n",
       " ('Google News (Russia)', 'google-news-ru'),\n",
       " ('Google News (Saudi Arabia)', 'google-news-sa'),\n",
       " ('Google News (UK)', 'google-news-uk'),\n",
       " ('Göteborgs-Posten', 'goteborgs-posten'),\n",
       " ('Gruenderszene', 'gruenderszene'),\n",
       " ('Hacker News', 'hacker-news'),\n",
       " ('Handelsblatt', 'handelsblatt'),\n",
       " ('IGN', 'ign'),\n",
       " ('Il Sole 24 Ore', 'il-sole-24-ore'),\n",
       " ('Independent', 'independent'),\n",
       " ('Infobae', 'infobae'),\n",
       " ('InfoMoney', 'info-money'),\n",
       " ('La Gaceta', 'la-gaceta'),\n",
       " ('La Nacion', 'la-nacion'),\n",
       " ('La Repubblica', 'la-repubblica'),\n",
       " ('Le Monde', 'le-monde'),\n",
       " ('Lenta', 'lenta'),\n",
       " (\"L'equipe\", 'lequipe'),\n",
       " ('Les Echos', 'les-echos'),\n",
       " ('Libération', 'liberation'),\n",
       " ('Marca', 'marca'),\n",
       " ('Mashable', 'mashable'),\n",
       " ('Medical News Today', 'medical-news-today'),\n",
       " ('Metro', 'metro'),\n",
       " ('Mirror', 'mirror'),\n",
       " ('MSNBC', 'msnbc'),\n",
       " ('MTV News', 'mtv-news'),\n",
       " ('MTV News (UK)', 'mtv-news-uk'),\n",
       " ('National Geographic', 'national-geographic'),\n",
       " ('National Review', 'national-review'),\n",
       " ('NBC News', 'nbc-news'),\n",
       " ('News24', 'news24'),\n",
       " ('New Scientist', 'new-scientist'),\n",
       " ('News.com.au', 'news-com-au'),\n",
       " ('Newsweek', 'newsweek'),\n",
       " ('New York Magazine', 'new-york-magazine'),\n",
       " ('Next Big Future', 'next-big-future'),\n",
       " ('NFL News', 'nfl-news'),\n",
       " ('NHL News', 'nhl-news'),\n",
       " ('NRK', 'nrk'),\n",
       " ('Politico', 'politico'),\n",
       " ('Polygon', 'polygon'),\n",
       " ('RBC', 'rbc'),\n",
       " ('Recode', 'recode'),\n",
       " ('Reddit /r/all', 'reddit-r-all'),\n",
       " ('Reuters', 'reuters'),\n",
       " ('RT', 'rt'),\n",
       " ('RTE', 'rte'),\n",
       " ('RTL Nieuws', 'rtl-nieuws'),\n",
       " ('SABQ', 'sabq'),\n",
       " ('Spiegel Online', 'spiegel-online'),\n",
       " ('Svenska Dagbladet', 'svenska-dagbladet'),\n",
       " ('T3n', 't3n'),\n",
       " ('TalkSport', 'talksport'),\n",
       " ('TechCrunch', 'techcrunch'),\n",
       " ('TechCrunch (CN)', 'techcrunch-cn'),\n",
       " ('TechRadar', 'techradar'),\n",
       " ('The American Conservative', 'the-american-conservative'),\n",
       " ('The Economist', 'the-economist'),\n",
       " ('The Globe And Mail', 'the-globe-and-mail'),\n",
       " ('The Guardian (AU)', 'the-guardian-au'),\n",
       " ('The Guardian (UK)', 'the-guardian-uk'),\n",
       " ('The Hill', 'the-hill'),\n",
       " ('The Hindu', 'the-hindu'),\n",
       " ('The Huffington Post', 'the-huffington-post'),\n",
       " ('The Irish Times', 'the-irish-times'),\n",
       " ('The Jerusalem Post', 'the-jerusalem-post'),\n",
       " ('The Lad Bible', 'the-lad-bible'),\n",
       " ('The New York Times', 'the-new-york-times'),\n",
       " ('The Next Web', 'the-next-web'),\n",
       " ('The Sport Bible', 'the-sport-bible'),\n",
       " ('The Telegraph', 'the-telegraph'),\n",
       " ('The Times of India', 'the-times-of-india'),\n",
       " ('The Verge', 'the-verge'),\n",
       " ('The Wall Street Journal', 'the-wall-street-journal'),\n",
       " ('The Washington Post', 'the-washington-post'),\n",
       " ('The Washington Times', 'the-washington-times'),\n",
       " ('Time', 'time'),\n",
       " ('USA Today', 'usa-today'),\n",
       " ('Vice News', 'vice-news'),\n",
       " ('Wired', 'wired'),\n",
       " ('Wired.de', 'wired-de'),\n",
       " ('Wirtschafts Woche', 'wirtschafts-woche'),\n",
       " ('Xinhua Net', 'xinhua-net'),\n",
       " ('Ynet', 'ynet')]"
      ]
     },
     "execution_count": 27,
     "metadata": {},
     "output_type": "execute_result"
    }
   ],
   "source": [
    "# List all sources\n",
    "[(source['name'], source['id']) for source in sources['sources']]\n",
    "# Includes 'The New York Times' under 'the-new-york-times'\n",
    "# Includes 'Fox News' under 'fox-news'"
   ]
  },
  {
   "cell_type": "code",
   "execution_count": null,
   "metadata": {
    "collapsed": true
   },
   "outputs": [],
   "source": []
  }
 ],
 "metadata": {
  "kernelspec": {
   "display_name": "Python 3",
   "language": "python",
   "name": "python3"
  },
  "language_info": {
   "codemirror_mode": {
    "name": "ipython",
    "version": 3
   },
   "file_extension": ".py",
   "mimetype": "text/x-python",
   "name": "python",
   "nbconvert_exporter": "python",
   "pygments_lexer": "ipython3",
   "version": "3.6.1"
  }
 },
 "nbformat": 4,
 "nbformat_minor": 2
}
